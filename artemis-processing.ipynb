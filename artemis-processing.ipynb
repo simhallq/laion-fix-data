{
 "cells": [
  {
   "cell_type": "code",
   "execution_count": 1,
   "metadata": {},
   "outputs": [
    {
     "data": {
      "text/plain": [
       "81446"
      ]
     },
     "execution_count": 1,
     "metadata": {},
     "output_type": "execute_result"
    }
   ],
   "source": [
    "# load iamges\n",
    "\n",
    "from pathlib import Path\n",
    "\n",
    "data_dir = Path('./data/wikiart/')\n",
    "\n",
    "\n",
    "# count images\n",
    "cnt = 0\n",
    "for dir in data_dir.iterdir():\n",
    "    if dir.is_dir():\n",
    "        for file in dir.iterdir():\n",
    "            if str(file).endswith('jpg'):\n",
    "                cnt+=1\n",
    "cnt"
   ]
  },
  {
   "cell_type": "code",
   "execution_count": 2,
   "metadata": {},
   "outputs": [],
   "source": [
    "import pandas as pd\n",
    "# load captions data\n",
    "df=pd.read_csv('/Users/simon/Downloads/official_data/artemis_dataset_release_v0.csv')"
   ]
  },
  {
   "cell_type": "code",
   "execution_count": 3,
   "metadata": {},
   "outputs": [
    {
     "data": {
      "text/plain": [
       "Index(['art_style', 'painting', 'emotion', 'utterance', 'repetition'], dtype='object')"
      ]
     },
     "execution_count": 3,
     "metadata": {},
     "output_type": "execute_result"
    }
   ],
   "source": [
    "df.columns"
   ]
  },
  {
   "cell_type": "code",
   "execution_count": 8,
   "metadata": {},
   "outputs": [],
   "source": [
    "def add_captions(df,artist_name):\n",
    "    #get 'art_style' value\n",
    "    style=row['art_style'].replace('_',' ').lower()\n",
    "    style=style[0].upper()+style[1:]\n",
    "    df['caption']=df.apply(lambda row:f\"{style} artwork by {artist_name}. The painting expresses {row['emotion']} because {row['utterance'].lower()}\",axis=1)\n",
    "    return df"
   ]
  },
  {
   "cell_type": "code",
   "execution_count": 9,
   "metadata": {},
   "outputs": [
    {
     "name": "stderr",
     "output_type": "stream",
     "text": [
      "  0%|          | 0/65 [00:00<?, ?it/s]/var/folders/g8/g2fn4cds1vj2yp9yzsd9158r0000gn/T/ipykernel_75099/291680148.py:5: SettingWithCopyWarning: \n",
      "A value is trying to be set on a copy of a slice from a DataFrame.\n",
      "Try using .loc[row_indexer,col_indexer] = value instead\n",
      "\n",
      "See the caveats in the documentation: https://pandas.pydata.org/pandas-docs/stable/user_guide/indexing.html#returning-a-view-versus-a-copy\n",
      "  df['caption']=df.apply(lambda row:f\"{style} artwork by {artist_name}. The painting expresses {row['emotion']} because {row['utterance'].lower()}\",axis=1)\n",
      " 55%|█████▌    | 36/65 [21:13<12:19, 25.48s/it] /Users/simon/miniforge3/envs/target-screener/lib/python3.8/site-packages/PIL/Image.py:2911: DecompressionBombWarning: Image size (99962094 pixels) exceeds limit of 89478485 pixels, could be decompression bomb DOS attack.\n",
      "  warnings.warn(\n",
      "/Users/simon/miniforge3/envs/target-screener/lib/python3.8/site-packages/PIL/Image.py:2911: DecompressionBombWarning: Image size (107327830 pixels) exceeds limit of 89478485 pixels, could be decompression bomb DOS attack.\n",
      "  warnings.warn(\n",
      "100%|██████████| 65/65 [1:03:19<00:00, 58.45s/it] \n"
     ]
    }
   ],
   "source": [
    "import json\n",
    "import shutil\n",
    "from PIL import Image,ImageFile\n",
    "from tqdm import tqdm\n",
    "from pathlib import Path\n",
    "ImageFile.LOAD_TRUNCATED_IMAGES = True\n",
    "\n",
    "\n",
    "save_dir='./data/artemis-laion/'\n",
    "shutil.rmtree(save_dir, ignore_errors=True)\n",
    "save_dir=Path(save_dir).absolute()\n",
    "save_dir.mkdir(parents=True,exist_ok=True)\n",
    "#remove save_dir and content if it exists\n",
    "\n",
    "iter=0\n",
    "for style_dir in tqdm(list(data_dir.iterdir())):\n",
    "    if style_dir.is_dir():\n",
    "        for img_file in style_dir.glob('*.jpg'):\n",
    "\n",
    "            #IMAGES\n",
    "            img = Image.open(img_file)\n",
    "            width,height = img.size\n",
    "            if height < 64 or width < 64:\n",
    "                continue\n",
    "            elif height > 512 and width > 512:\n",
    "                #change largest dimension to 512 and keep aspect ratio\n",
    "                if height > width:\n",
    "                    resized_img = img.resize((512, int(512*height/width)), Image.ANTIALIAS)\n",
    "                    resized_img.save(save_dir/str(str(iter)+'.jpg'))\n",
    "\n",
    "                else:\n",
    "                    resized_img = img.resize((int(512*width/height), 512), Image.ANTIALIAS)\n",
    "                    resized_img.save(save_dir/str(str(iter)+'.jpg'))\n",
    "\n",
    "            elif height > 512:\n",
    "                #resize to 512 and keep aspect ratio\n",
    "                resized_img = img.resize((512, int(512*height/width)), Image.ANTIALIAS)\n",
    "                #save image as resized\n",
    "                resized_img.save(save_dir/str(str(iter)+'.jpg'))\n",
    "            elif width > 512:\n",
    "                #resize to 512 and keep aspect ratio\n",
    "                resized_img = img.resize((int(512*width/height), 512), Image.ANTIALIAS)\n",
    "                #save image as resized\n",
    "                resized_img.save(save_dir/str(str(iter)+'.jpg'))\n",
    "            else:    \n",
    "                img.save(save_dir/str(str(iter)+'.jpg'))\n",
    "            \n",
    "            \n",
    "            #CREATE CAPTION\n",
    "\n",
    "            #match filename and with df row\n",
    "            painting_name=img_file.name.replace('.jpg','')\n",
    "            df_match=df[df['painting']==painting_name]\n",
    "            if len(df_match)==0:\n",
    "                continue\n",
    "            artist_name=str(img_file.name).split('_')[0]\n",
    "            artist_name=artist_name.replace('-', ' ')\n",
    "            artist_name=artist_name.title()\n",
    "            df_caption=add_captions(df_match,artist_name)\n",
    "            for i,row in df_caption.iterrows():\n",
    "                #save caption\n",
    "                with open(save_dir/str(str(iter)+'.txt'),'w+') as f:\n",
    "                    f.write(row['caption'])\n",
    "                \n",
    "                #CREATE METADATA\n",
    "                if resized_img:\n",
    "                    width,height = resized_img.size\n",
    "                \n",
    "                meta_data={'url':'https://www.artemisdataset.org/','width':width,'height':height}\n",
    "                #save metadata\n",
    "                with open(save_dir/str(str(iter)+'.json'),'w+') as f:\n",
    "                    f.write(json.dumps(meta_data))\n",
    "                iter+=1\n",
    "\n"
   ]
  }
 ],
 "metadata": {
  "interpreter": {
   "hash": "a5a1c9266df5e6796fcebd59620e183278e3ee39fa7d03a7a3710a656789b2c5"
  },
  "kernelspec": {
   "display_name": "Python 3.8.11 ('target-screener')",
   "language": "python",
   "name": "python3"
  },
  "language_info": {
   "codemirror_mode": {
    "name": "ipython",
    "version": 3
   },
   "file_extension": ".py",
   "mimetype": "text/x-python",
   "name": "python",
   "nbconvert_exporter": "python",
   "pygments_lexer": "ipython3",
   "version": "3.8.11"
  },
  "orig_nbformat": 4
 },
 "nbformat": 4,
 "nbformat_minor": 2
}
