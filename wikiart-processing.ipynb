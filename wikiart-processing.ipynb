{
 "cells": [
  {
   "cell_type": "code",
   "execution_count": null,
   "metadata": {},
   "outputs": [
    {
     "data": {
      "text/plain": [
       "81446"
      ]
     },
     "execution_count": 1,
     "metadata": {},
     "output_type": "execute_result"
    }
   ],
   "source": [
    "# load data\n",
    "\n",
    "from pathlib import Path\n",
    "\n",
    "data_dir = Path('./data/wikiart/')\n",
    "\n",
    "\n",
    "# count images\n",
    "cnt = 0\n",
    "for dir in data_dir.iterdir():\n",
    "    if dir.is_dir():\n",
    "        for file in dir.iterdir():\n",
    "            if str(file).endswith('jpg'):\n",
    "                cnt+=1\n",
    "cnt"
   ]
  },
  {
   "cell_type": "code",
   "execution_count": 11,
   "metadata": {},
   "outputs": [
    {
     "name": "stderr",
     "output_type": "stream",
     "text": [
      "28it [11:13, 22.90s/it]"
     ]
    }
   ],
   "source": [
    "import json\n",
    "import re\n",
    "import shutil\n",
    "from PIL import Image\n",
    "from tqdm import tqdm\n",
    "from pathlib import Path\n",
    "\n",
    "save_dir='./data/wikiart-laion/'\n",
    "shutil.rmtree(save_dir)\n",
    "save_dir=Path(save_dir).absolute()\n",
    "save_dir.mkdir(parents=True,exist_ok=True)\n",
    "#remove save_dir and content if it exists\n",
    "\n",
    "iter=0\n",
    "for style_dir in tqdm(data_dir.iterdir()):\n",
    "    if style_dir.is_dir():\n",
    "        for img_file in style_dir.glob('*.jpg'):\n",
    "\n",
    "            #IMAGES\n",
    "            img = Image.open(img_file)\n",
    "            width,height = img.size\n",
    "            if height < 64 or width < 64:\n",
    "                continue\n",
    "            elif height > 512 and width > 512:\n",
    "                #change largest dimension to 512 and keep aspect ratio\n",
    "                if height > width:\n",
    "                    resized_img = img.resize((512, int(512*height/width)), Image.ANTIALIAS)\n",
    "                    resized_img.save(save_dir/str(str(iter)+'.jpg'))\n",
    "\n",
    "                else:\n",
    "                    resized_img = img.resize((int(512*width/height), 512), Image.ANTIALIAS)\n",
    "                    resized_img.save(save_dir/str(str(iter)+'.jpg'))\n",
    "\n",
    "            elif height > 512:\n",
    "                #resize to 512 and keep aspect ratio\n",
    "                resized_img = img.resize((512, int(512*height/width)), Image.ANTIALIAS)\n",
    "                #save image as resized\n",
    "                resized_img.save(save_dir/str(str(iter)+'.jpg'))\n",
    "            elif width > 512:\n",
    "                #resize to 512 and keep aspect ratio\n",
    "                resized_img = img.resize((int(512*width/height), 512), Image.ANTIALIAS)\n",
    "                #save image as resized\n",
    "                resized_img.save(save_dir/str(str(iter)+'.jpg'))\n",
    "            else:    \n",
    "                img.save(save_dir/str(str(iter)+'.jpg'))\n",
    "            \n",
    "            #CREATE CAPTION\n",
    "            style=str(style_dir.name)\n",
    "            style=style.replace('_', ' ')# fix underscore in style\n",
    "            \n",
    "            # fix capitals in style\n",
    "            style=style.lower()\n",
    "            style=style[0].upper()+style[1:]\n",
    "\n",
    "            # fix capitals in artist name\n",
    "            artist_name=str(img_file.name).split('_')[0]\n",
    "            artist_name=artist_name.replace('-', ' ')\n",
    "            artist_name=artist_name.title()\n",
    "            \n",
    "            # fix artwork name\n",
    "            artwork_name=str(img_file.name).split('_')[1]\n",
    "            artwork_name=artwork_name.replace('.jpg', '')\n",
    "            artwork_name=artwork_name.replace('-', ' ')\n",
    "            artwork_name=re.sub('\\(\\d\\)', '', artwork_name)\n",
    "            artwork_name=artwork_name.title()\n",
    "            artwork_name=re.sub('\\d+', '', artwork_name)\n",
    "            artwork_name=artwork_name.strip()\n",
    "            \n",
    "            # TODO Parsing of year form filename not working correctly\n",
    "            # if '-' in artwork_name:\n",
    "            #     artwork_name=artwork_name.split('-')[0]\n",
    "\n",
    "            # #find year in artwork name\n",
    "            # def find_year(s):\n",
    "            #     if re.match('\\d{4}',s):\n",
    "            #         return int(re.match('\\d{4}',s)[0])\n",
    "            # year=find_year(artwork_name)\n",
    "            # #years=[_ for _ in years if _]\n",
    "            # if year:\n",
    "            #     caption=f\"{style} artwork by artist {artist_name}. The artwork is called {artwork_name} and was created in {year}.\"\n",
    "            # else:\n",
    "            #     caption=f\"{style} artwork by artist {artist_name}. The artwork is called {artwork_name}.\"\n",
    "            caption=f\"{style} artwork by artist {artist_name}. The artwork is called {artwork_name}.\"\n",
    "            #save caption\n",
    "            with open(save_dir/str(str(iter)+'.txt'),'w+') as f:\n",
    "                f.write(caption)\n",
    "            \n",
    "            #CREATE METADATA\n",
    "            if resized_img:\n",
    "                width,height = resized_img.size\n",
    "            \n",
    "            meta_data={'url':'https://github.com/cs-chan/ArtGAN/tree/master/WikiArt%20Dataset','width':width,'height':height}\n",
    "            #save metadata\n",
    "            with open(save_dir/str(str(iter)+'.json'),'w+') as f:\n",
    "                f.write(json.dumps(meta_data))\n",
    "            iter+=1\n",
    "\n"
   ]
  }
 ],
 "metadata": {
  "interpreter": {
   "hash": "a5a1c9266df5e6796fcebd59620e183278e3ee39fa7d03a7a3710a656789b2c5"
  },
  "kernelspec": {
   "display_name": "Python 3.8.11 ('target-screener')",
   "language": "python",
   "name": "python3"
  },
  "language_info": {
   "codemirror_mode": {
    "name": "ipython",
    "version": 3
   },
   "file_extension": ".py",
   "mimetype": "text/x-python",
   "name": "python",
   "nbconvert_exporter": "python",
   "pygments_lexer": "ipython3",
   "version": "3.8.11"
  },
  "orig_nbformat": 4
 },
 "nbformat": 4,
 "nbformat_minor": 2
}
