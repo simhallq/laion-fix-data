{
 "cells": [
  {
   "cell_type": "code",
   "execution_count": 5,
   "metadata": {},
   "outputs": [
    {
     "data": {
      "text/plain": [
       "81446"
      ]
     },
     "execution_count": 5,
     "metadata": {},
     "output_type": "execute_result"
    }
   ],
   "source": [
    "# load data\n",
    "\n",
    "from pathlib import Path\n",
    "\n",
    "data_dir = Path('./data/wikiart/')\n",
    "\n",
    "\n",
    "# count images\n",
    "cnt = 0\n",
    "for dir in data_dir.iterdir():\n",
    "    if dir.is_dir():\n",
    "        for file in dir.iterdir():\n",
    "            if str(file).endswith('jpg'):\n",
    "                cnt+=1\n",
    "cnt\n",
    "\n",
    "\n",
    "# loop over all images\n",
    "#    create caption from directory and file names\n",
    "#    check image size\n",
    "#        if any dimension is < 64 -> drop\n",
    "#        if any dimension is > 512 -> resize\n",
    "#\n"
   ]
  },
  {
   "cell_type": "code",
   "execution_count": null,
   "metadata": {},
   "outputs": [
    {
     "ename": "",
     "evalue": "",
     "output_type": "error",
     "traceback": [
      "\u001b[1;31mFailed to interrupt the Kernel. \n",
      "No debugger available, can not send 'disconnect'. \n",
      "View Jupyter <a href='command:jupyter.viewOutput'>log</a> for further details."
     ]
    }
   ],
   "source": [
    "\n",
    "import shutil\n",
    "from PIL import Image\n",
    "from tqdm import tqdm\n",
    "from pathlib import Path\n",
    "\n",
    "save_dir='./data/wikiart-laion/'\n",
    "shutil.rmtree(save_dir)\n",
    "save_dir=Path(save_dir).absolute()\n",
    "save_dir.mkdir(parents=True,exist_ok=True)\n",
    "#remove save_dir and content if it exists\n",
    "\n",
    "iter=0\n",
    "for style_dir in tqdm(data_dir.iterdir()):\n",
    "    if style_dir.is_dir():\n",
    "        for img_file in style_dir.glob('*.jpg'):\n",
    "\n",
    "            #load image\n",
    "            img = Image.open(img_file)\n",
    "            width,height = img.size\n",
    "            if height < 64 or width < 64:\n",
    "                continue\n",
    "            elif height > 512 and width > 512:\n",
    "                #change largest dimension to 512 and keep aspect ratio\n",
    "                if height > width:\n",
    "                    resized_img = img.resize((512, int(512*height/width)), Image.ANTIALIAS)\n",
    "                    resized_img.save(save_dir/str(iter))\n",
    "\n",
    "                else:\n",
    "                    resized_img = img.resize((int(512*width/height), 512), Image.ANTIALIAS)\n",
    "                    resized_img.save(save_dir/str(iter))\n",
    "\n",
    "            elif height > 512:\n",
    "                #resize to 512 and keep aspect ratio\n",
    "                resized_img = img.resize((512, int(512*height/width)), Image.ANTIALIAS)\n",
    "                #save image as resized\n",
    "                resized_img.save(save_dir/str(iter))\n",
    "            elif width > 512:\n",
    "                #resize to 512 and keep aspect ratio\n",
    "                resized_img = img.resize((int(512*width/height), 512), Image.ANTIALIAS)\n",
    "                #save image as resized\n",
    "                resized_img.save(save_dir/str(iter))\n",
    "            else:    \n",
    "                img.save(save_dir/str(iter))\n",
    "            iter+=1\n",
    "            #create caption\n",
    "            style=str(style_dir.name)\n",
    "            artist_name=str(img_file.name).split('_')[0]\n",
    "            artwork_name=str(img_file.name).split('_')[1]\n",
    "            #find year in artwork name\n",
    "            years=[int(s) for s in artwork_name.split() if s.isdigit()]\n",
    "            for year in years:\n",
    "                if year > 1000 and year < 3000:\n",
    "                    year=year\n",
    "                    break\n",
    "\n",
    "            caption=f\"{style} artwork by {artist_name} called {artwork_name}. Created in {creation_year}.\"\n",
    "            #print(caption)\n"
   ]
  },
  {
   "cell_type": "code",
   "execution_count": 14,
   "metadata": {},
   "outputs": [
    {
     "data": {
      "text/plain": [
       "1977"
      ]
     },
     "execution_count": 14,
     "metadata": {},
     "output_type": "execute_result"
    }
   ],
   "source": [
    "import re\n",
    "\n",
    "def find_year(s):\n",
    "    if re.match('\\d{4}',s):\n",
    "        return int(re.match('\\d{4}',s)[0])\n",
    "\n",
    "years=[find_year(_) for _ in 'ohne-titel-1977(1)'.split('-')]\n",
    "years=[_ for _ in years if _]\n",
    "years[0]"
   ]
  },
  {
   "cell_type": "code",
   "execution_count": null,
   "metadata": {},
   "outputs": [],
   "source": [
    "from pathlib import Path\n",
    "\n",
    "save_dir='./data/wikiart-laion'\n",
    "save_dir=Path(save_dir).absolute()\n",
    "save_dir.mkdir(parents=True,exist_ok=True)\n",
    "str(save_dir)"
   ]
  },
  {
   "cell_type": "code",
   "execution_count": null,
   "metadata": {},
   "outputs": [],
   "source": [
    "#captions from directories and filenames\n",
    "\n",
    "\n",
    "caption=f\"{style} artwork by {artist_name} called {artwork_name}. Created in {creation_year}.\""
   ]
  },
  {
   "cell_type": "code",
   "execution_count": null,
   "metadata": {},
   "outputs": [],
   "source": [
    "#process data"
   ]
  },
  {
   "cell_type": "code",
   "execution_count": null,
   "metadata": {},
   "outputs": [],
   "source": [
    "#"
   ]
  }
 ],
 "metadata": {
  "interpreter": {
   "hash": "b0fa6594d8f4cbf19f97940f81e996739fb7646882a419484c72d19e05852a7e"
  },
  "kernelspec": {
   "display_name": "Python 3.9.10 64-bit",
   "language": "python",
   "name": "python3"
  },
  "language_info": {
   "codemirror_mode": {
    "name": "ipython",
    "version": 3
   },
   "file_extension": ".py",
   "mimetype": "text/x-python",
   "name": "python",
   "nbconvert_exporter": "python",
   "pygments_lexer": "ipython3",
   "version": "3.8.11"
  },
  "orig_nbformat": 4
 },
 "nbformat": 4,
 "nbformat_minor": 2
}
