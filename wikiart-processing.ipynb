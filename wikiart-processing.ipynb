{
 "cells": [
  {
   "cell_type": "code",
   "execution_count": null,
   "metadata": {},
   "outputs": [],
   "source": [
    "#https://github.com/cs-chan/ArtGAN/tree/master/WikiArt%20Dataset\n",
    "\n",
    "#download data\n",
    "\n",
    "#unzip data"
   ]
  },
  {
   "cell_type": "code",
   "execution_count": null,
   "metadata": {},
   "outputs": [],
   "source": [
    "#load data\n",
    "\n",
    "from pathlib import Path\n",
    "\n",
    "data_dir=Path('./data/wikiart/')\n",
    "\n"
   ]
  },
  {
   "cell_type": "code",
   "execution_count": null,
   "metadata": {},
   "outputs": [],
   "source": [
    "# load data\n",
    "\n",
    "from pathlib import Path\n",
    "\n",
    "data_dir = Path('./data/wikiart/')\n",
    "\n",
    "\n",
    "# count images\n",
    "cnt = 0\n",
    "for dir in data_dir.iterdir():\n",
    "    if dir.is_dir():\n",
    "        for file in dir.iterdir():\n",
    "            if str(file).endswith('jpg'):\n",
    "                cnt+=1\n",
    "cnt\n",
    "\n",
    "\n",
    "# loop over all images\n",
    "#    create caption from directory and file names\n",
    "#    check image size\n",
    "#        if any dimension is < 64 -> drop\n",
    "#        if any dimension is > 512 -> resize\n",
    "#\n"
   ]
  },
  {
   "cell_type": "code",
   "execution_count": null,
   "metadata": {},
   "outputs": [],
   "source": [
    "\n",
    "\n",
    "from PIL import Image\n",
    "from tqdm import tqdm\n",
    "for style_dir in tqdm(data_dir.iterdir()):\n",
    "    if style_dir.is_dir():\n",
    "        for file in style_dir.iterdir():\n",
    "            if str(file).endswith('jpg'):\n",
    "                #load image\n",
    "                img = Image.open(file)\n",
    "                width,height = img.size\n",
    "                if height < 64 or width < 64:\n",
    "                    file.unlink()\n",
    "                    continue\n",
    "                elif height > 512 and width > 512:\n",
    "                    #change largest dimension to 512 and keep aspect ratio\n",
    "                    if height > width:\n",
    "                        resized_img = img.resize((512, int(512*height/width)), Image.ANTIALIAS)\n",
    "                        resized_img.save('/Users/simon/laion-fix-data/test/'+'resized_both_height_'+file.name)\n",
    "                        img.save('/Users/simon/laion-fix-data/test/'+file.name)\n",
    "\n",
    "                    else:\n",
    "                        resized_img = img.resize((int(512*width/height), 512), Image.ANTIALIAS)\n",
    "                        resized_img.save('/Users/simon/laion-fix-data/test/'+'resized_both_width_'+file.name)\n",
    "                        img.save('/Users/simon/laion-fix-data/test/'+file.name)\n",
    "\n",
    "                elif height > 512:\n",
    "                    #resize to 512 and keep aspect ratio\n",
    "                    resized_img = img.resize((512, int(512*height/width)), Image.ANTIALIAS)\n",
    "                    #save image as resized\n",
    "                    #img.save(str(file.parent)+'resized_'+file.name)\n",
    "                    resized_img.save('/Users/simon/laion-fix-data/test/'+'resized_height_'+file.name)\n",
    "                    img.save('/Users/simon/laion-fix-data/test/'+file.name)\n",
    "                elif width > 512:\n",
    "                    #resize to 512 and keep aspect ratio\n",
    "                    resized_img = img.resize((int(512*width/height), 512), Image.ANTIALIAS)\n",
    "                    #save image as resized\n",
    "                    resized_img.save('/Users/simon/laion-fix-data/test/'+'resized_height_'+file.name)\n",
    "                    img.save('/Users/simon/laion-fix-data/test/'+file.name)\n",
    "                else:    \n",
    "                    pass\n",
    "                #create caption\n",
    "                caption = style_dir.name + ' ' + file.name\n",
    "                #print(caption)\n",
    "\n",
    "#resize image while keeping aspect ratio\n",
    "#https://stackoverflow.com/questions/44650888/resize-image-without-distortion-using-opencv-python\n",
    "        "
   ]
  },
  {
   "cell_type": "code",
   "execution_count": null,
   "metadata": {},
   "outputs": [],
   "source": [
    "#captions from directories and filenames\n",
    "\n",
    "\n",
    "caption=f\"{style} artwork by {artist_name} called {artwork_name}. Created in {creation_year}.\""
   ]
  },
  {
   "cell_type": "code",
   "execution_count": null,
   "metadata": {},
   "outputs": [],
   "source": [
    "#process data"
   ]
  },
  {
   "cell_type": "code",
   "execution_count": null,
   "metadata": {},
   "outputs": [],
   "source": [
    "#"
   ]
  }
 ],
 "metadata": {
  "interpreter": {
   "hash": "b0fa6594d8f4cbf19f97940f81e996739fb7646882a419484c72d19e05852a7e"
  },
  "kernelspec": {
   "display_name": "Python 3.9.10 64-bit",
   "language": "python",
   "name": "python3"
  },
  "language_info": {
   "codemirror_mode": {
    "name": "ipython",
    "version": 3
   },
   "file_extension": ".py",
   "mimetype": "text/x-python",
   "name": "python",
   "nbconvert_exporter": "python",
   "pygments_lexer": "ipython3",
   "version": "3.8.11"
  },
  "orig_nbformat": 4
 },
 "nbformat": 4,
 "nbformat_minor": 2
}
